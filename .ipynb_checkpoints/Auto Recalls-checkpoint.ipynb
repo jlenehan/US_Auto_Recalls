{
 "cells": [
  {
   "cell_type": "markdown",
   "id": "ed3a331e",
   "metadata": {},
   "source": [
    "# Introduction"
   ]
  },
  {
   "cell_type": "markdown",
   "id": "8c6f0394",
   "metadata": {},
   "source": [
    "The purpose of this jupyter notebook is to clean and process the data from US_Recalls, to then be able to generate insights in a Power BI report. Natural language processing is used on the dataset to extract key actions taken in every recall event. Finally the processed dataset is printed to a csv file, to visualise the data using a Power BI dashboard."
   ]
  },
  {
   "cell_type": "markdown",
   "id": "e9e6d63e",
   "metadata": {},
   "source": [
    "# Step 0: Import Libraries"
   ]
  },
  {
   "cell_type": "markdown",
   "id": "5c690854",
   "metadata": {},
   "source": [
    "The first task is to import the libraries used for this analysis and data cleaning/extraction; the first set of libraries includes os, pandas, missingno, and matplotlib.pyplot, which are commonly used for data analysis and visualization.\n",
    "\n",
    "The second set of libraries, string, json and collections, are used for text manipulation tasks, such as cleaning and formatting text data.\n",
    "\n",
    "The last set of libraries, re, nltk, and textblob, are commonly used in natural language processing (NLP) tasks, such as text classification, sentiment analysis, and language modeling."
   ]
  },
  {
   "cell_type": "code",
   "execution_count": 1,
   "id": "ccbdc46f",
   "metadata": {},
   "outputs": [],
   "source": [
    "#basic DS libraries\n",
    "import os\n",
    "import pandas as pd\n",
    "import missingno as msno\n",
    "import matplotlib.pyplot as plt \n",
    "\n",
    "#text manipulation\n",
    "import string\n",
    "import json\n",
    "from collections import Counter\n",
    "\n",
    "#NLP libraries\n",
    "import re\n",
    "import nltk\n",
    "import textblob\n"
   ]
  },
  {
   "cell_type": "markdown",
   "id": "6ac34f21",
   "metadata": {},
   "source": [
    "# Step 1: Import Data"
   ]
  },
  {
   "cell_type": "code",
   "execution_count": 2,
   "id": "39359b24",
   "metadata": {},
   "outputs": [],
   "source": [
    "#Setting directory\n",
    "dir_name = r'C:\\Users\\jlenehan\\OneDrive - Intel Corporation\\Documents\\0 - Data Science\\Projects\\Auto Recalls\\Auto-Recalls'\n",
    "os.chdir(dir_name)"
   ]
  },
  {
   "cell_type": "code",
   "execution_count": 3,
   "id": "a2a752da",
   "metadata": {},
   "outputs": [
    {
     "data": {
      "text/html": [
       "<div>\n",
       "<style scoped>\n",
       "    .dataframe tbody tr th:only-of-type {\n",
       "        vertical-align: middle;\n",
       "    }\n",
       "\n",
       "    .dataframe tbody tr th {\n",
       "        vertical-align: top;\n",
       "    }\n",
       "\n",
       "    .dataframe thead th {\n",
       "        text-align: right;\n",
       "    }\n",
       "</style>\n",
       "<table border=\"1\" class=\"dataframe\">\n",
       "  <thead>\n",
       "    <tr style=\"text-align: right;\">\n",
       "      <th></th>\n",
       "      <th>report_received_date</th>\n",
       "      <th>nhtsa_id</th>\n",
       "      <th>recall_link</th>\n",
       "      <th>manufacturer</th>\n",
       "      <th>subject</th>\n",
       "      <th>component</th>\n",
       "      <th>mfr_campaign_number</th>\n",
       "      <th>recall_type</th>\n",
       "      <th>potentially_affected</th>\n",
       "      <th>defect_summary</th>\n",
       "      <th>consequence_summary</th>\n",
       "      <th>corrective_action</th>\n",
       "      <th>fire_risk_when_parked</th>\n",
       "      <th>do_not_drive</th>\n",
       "    </tr>\n",
       "  </thead>\n",
       "  <tbody>\n",
       "    <tr>\n",
       "      <th>0</th>\n",
       "      <td>2023-03-10T00:00:00.000</td>\n",
       "      <td>23V161000</td>\n",
       "      <td>Go to Recall (https://www.nhtsa.gov/recalls?nh...</td>\n",
       "      <td>Kibbi, LLC</td>\n",
       "      <td>Entry Door Latch Failure</td>\n",
       "      <td>LATCHES/LOCKS/LINKAGES</td>\n",
       "      <td>NR (Not Reported)</td>\n",
       "      <td>Vehicle</td>\n",
       "      <td>63.0</td>\n",
       "      <td>Kibbi, LLC (Kibbi) is recalling certain 2022-2...</td>\n",
       "      <td>The inability to enter or exit the vehicle in ...</td>\n",
       "      <td>Dealers will inspect and replace the door latc...</td>\n",
       "      <td>No</td>\n",
       "      <td>No</td>\n",
       "    </tr>\n",
       "    <tr>\n",
       "      <th>1</th>\n",
       "      <td>2023-03-10T00:00:00.000</td>\n",
       "      <td>23V162000</td>\n",
       "      <td>Go to Recall (https://www.nhtsa.gov/recalls?nh...</td>\n",
       "      <td>Ford Motor Company</td>\n",
       "      <td>Front Brake Hoses May Rupture</td>\n",
       "      <td>SERVICE BRAKES, HYDRAULIC</td>\n",
       "      <td>23S12</td>\n",
       "      <td>Vehicle</td>\n",
       "      <td>1280726.0</td>\n",
       "      <td>Ford Motor Company (Ford) is recalling certain...</td>\n",
       "      <td>A brake fluid leak will increase brake pedal t...</td>\n",
       "      <td>Dealers will replace the front brake hoses, fr...</td>\n",
       "      <td>No</td>\n",
       "      <td>No</td>\n",
       "    </tr>\n",
       "    <tr>\n",
       "      <th>2</th>\n",
       "      <td>2023-03-10T00:00:00.000</td>\n",
       "      <td>23V160000</td>\n",
       "      <td>Go to Recall (https://www.nhtsa.gov/recalls?nh...</td>\n",
       "      <td>Ford Motor Company</td>\n",
       "      <td>Inoperative Trailer Taillights/FMVSS 108</td>\n",
       "      <td>EXTERIOR LIGHTING</td>\n",
       "      <td>23C04</td>\n",
       "      <td>Vehicle</td>\n",
       "      <td>2716.0</td>\n",
       "      <td>Ford Motor Company (Ford) is recalling certain...</td>\n",
       "      <td>Trailer taillights that do not illuminate as i...</td>\n",
       "      <td>Dealers will add an electrical circuit to the ...</td>\n",
       "      <td>No</td>\n",
       "      <td>No</td>\n",
       "    </tr>\n",
       "    <tr>\n",
       "      <th>3</th>\n",
       "      <td>2023-03-10T00:00:00.000</td>\n",
       "      <td>23V164000</td>\n",
       "      <td>Go to Recall (https://www.nhtsa.gov/recalls?nh...</td>\n",
       "      <td>Ford Motor Company</td>\n",
       "      <td>Rear Caliper Bolts Not Tightened Correctly</td>\n",
       "      <td>SERVICE BRAKES, HYDRAULIC</td>\n",
       "      <td>23S11</td>\n",
       "      <td>Vehicle</td>\n",
       "      <td>644.0</td>\n",
       "      <td>Ford Motor Company (Ford) is recalling certain...</td>\n",
       "      <td>A damaged wheel can result in a loss of tire p...</td>\n",
       "      <td>Dealers will inspect and tighten the rear cali...</td>\n",
       "      <td>No</td>\n",
       "      <td>No</td>\n",
       "    </tr>\n",
       "    <tr>\n",
       "      <th>4</th>\n",
       "      <td>2023-03-10T00:00:00.000</td>\n",
       "      <td>23V165000</td>\n",
       "      <td>Go to Recall (https://www.nhtsa.gov/recalls?nh...</td>\n",
       "      <td>Ford Motor Company</td>\n",
       "      <td>Rearview Camera Malfunction/FMVSS 111</td>\n",
       "      <td>BACK OVER PREVENTION</td>\n",
       "      <td>23C05</td>\n",
       "      <td>Vehicle</td>\n",
       "      <td>1651.0</td>\n",
       "      <td>Ford Motor Company (Ford) is recalling certain...</td>\n",
       "      <td>A rearview image that continues to be displaye...</td>\n",
       "      <td>The SYNC module software will be updated by a ...</td>\n",
       "      <td>No</td>\n",
       "      <td>No</td>\n",
       "    </tr>\n",
       "  </tbody>\n",
       "</table>\n",
       "</div>"
      ],
      "text/plain": [
       "      report_received_date   nhtsa_id  \\\n",
       "0  2023-03-10T00:00:00.000  23V161000   \n",
       "1  2023-03-10T00:00:00.000  23V162000   \n",
       "2  2023-03-10T00:00:00.000  23V160000   \n",
       "3  2023-03-10T00:00:00.000  23V164000   \n",
       "4  2023-03-10T00:00:00.000  23V165000   \n",
       "\n",
       "                                         recall_link        manufacturer  \\\n",
       "0  Go to Recall (https://www.nhtsa.gov/recalls?nh...          Kibbi, LLC   \n",
       "1  Go to Recall (https://www.nhtsa.gov/recalls?nh...  Ford Motor Company   \n",
       "2  Go to Recall (https://www.nhtsa.gov/recalls?nh...  Ford Motor Company   \n",
       "3  Go to Recall (https://www.nhtsa.gov/recalls?nh...  Ford Motor Company   \n",
       "4  Go to Recall (https://www.nhtsa.gov/recalls?nh...  Ford Motor Company   \n",
       "\n",
       "                                      subject                  component  \\\n",
       "0                    Entry Door Latch Failure     LATCHES/LOCKS/LINKAGES   \n",
       "1               Front Brake Hoses May Rupture  SERVICE BRAKES, HYDRAULIC   \n",
       "2    Inoperative Trailer Taillights/FMVSS 108          EXTERIOR LIGHTING   \n",
       "3  Rear Caliper Bolts Not Tightened Correctly  SERVICE BRAKES, HYDRAULIC   \n",
       "4       Rearview Camera Malfunction/FMVSS 111       BACK OVER PREVENTION   \n",
       "\n",
       "  mfr_campaign_number recall_type  potentially_affected  \\\n",
       "0   NR (Not Reported)     Vehicle                  63.0   \n",
       "1               23S12     Vehicle             1280726.0   \n",
       "2               23C04     Vehicle                2716.0   \n",
       "3               23S11     Vehicle                 644.0   \n",
       "4               23C05     Vehicle                1651.0   \n",
       "\n",
       "                                      defect_summary  \\\n",
       "0  Kibbi, LLC (Kibbi) is recalling certain 2022-2...   \n",
       "1  Ford Motor Company (Ford) is recalling certain...   \n",
       "2  Ford Motor Company (Ford) is recalling certain...   \n",
       "3  Ford Motor Company (Ford) is recalling certain...   \n",
       "4  Ford Motor Company (Ford) is recalling certain...   \n",
       "\n",
       "                                 consequence_summary  \\\n",
       "0  The inability to enter or exit the vehicle in ...   \n",
       "1  A brake fluid leak will increase brake pedal t...   \n",
       "2  Trailer taillights that do not illuminate as i...   \n",
       "3  A damaged wheel can result in a loss of tire p...   \n",
       "4  A rearview image that continues to be displaye...   \n",
       "\n",
       "                                   corrective_action fire_risk_when_parked  \\\n",
       "0  Dealers will inspect and replace the door latc...                    No   \n",
       "1  Dealers will replace the front brake hoses, fr...                    No   \n",
       "2  Dealers will add an electrical circuit to the ...                    No   \n",
       "3  Dealers will inspect and tighten the rear cali...                    No   \n",
       "4  The SYNC module software will be updated by a ...                    No   \n",
       "\n",
       "  do_not_drive  \n",
       "0           No  \n",
       "1           No  \n",
       "2           No  \n",
       "3           No  \n",
       "4           No  "
      ]
     },
     "execution_count": 3,
     "metadata": {},
     "output_type": "execute_result"
    }
   ],
   "source": [
    "#Recalls Data\n",
    "csv_url = \"https://datahub.transportation.gov/resource/6axg-epim.csv?$limit=1000000\"\n",
    "\n",
    "recalls_raw = pd.read_csv(csv_url)\n",
    "\n",
    "recalls_raw.head()"
   ]
  },
  {
   "cell_type": "code",
   "execution_count": 4,
   "id": "70e9b791",
   "metadata": {},
   "outputs": [
    {
     "name": "stdout",
     "output_type": "stream",
     "text": [
      "Index(['Report Received Date', 'NHTSA ID', 'Recall Link', 'Manufacturer',\n",
      "       'Subject', 'Component', 'Mfr Campaign Number', 'Recall Type',\n",
      "       'Potentially Affected', 'Recall Description', 'Consequence Summary',\n",
      "       'Corrective Action', 'Park Outside Advisory ', 'Do Not Drive Advisory'],\n",
      "      dtype='object')\n"
     ]
    }
   ],
   "source": [
    "#cleaning up column names in df\n",
    "#capitalising column names, removing underscores\n",
    "recalls_raw.columns = recalls_raw.columns.str.title().str.replace(\"_\",\" \")\n",
    "\n",
    "#replacing column names\n",
    "recalls_raw.rename(columns = {'Defect Summary':'Recall Description','Nhtsa Id':'NHTSA ID',\n",
    "                              'Fire Risk When Parked':'Park Outside Advisory ',\n",
    "                              'Do Not Drive':'Do Not Drive Advisory'},inplace=True)\n",
    "\n",
    "print(recalls_raw.columns)"
   ]
  },
  {
   "cell_type": "markdown",
   "id": "432f615d",
   "metadata": {},
   "source": [
    "# Step 2: Describe Data"
   ]
  },
  {
   "cell_type": "code",
   "execution_count": 5,
   "id": "c51564bd",
   "metadata": {},
   "outputs": [
    {
     "name": "stdout",
     "output_type": "stream",
     "text": [
      "Index(['Report Received Date', 'NHTSA ID', 'Recall Link', 'Manufacturer',\n",
      "       'Subject', 'Component', 'Mfr Campaign Number', 'Recall Type',\n",
      "       'Potentially Affected', 'Recall Description', 'Consequence Summary',\n",
      "       'Corrective Action', 'Park Outside Advisory ', 'Do Not Drive Advisory'],\n",
      "      dtype='object')\n",
      "<class 'pandas.core.frame.DataFrame'>\n",
      "RangeIndex: 26776 entries, 0 to 26775\n",
      "Data columns (total 14 columns):\n",
      " #   Column                  Non-Null Count  Dtype  \n",
      "---  ------                  --------------  -----  \n",
      " 0   Report Received Date    26776 non-null  object \n",
      " 1   NHTSA ID                26776 non-null  object \n",
      " 2   Recall Link             26776 non-null  object \n",
      " 3   Manufacturer            26776 non-null  object \n",
      " 4   Subject                 26776 non-null  object \n",
      " 5   Component               26776 non-null  object \n",
      " 6   Mfr Campaign Number     26747 non-null  object \n",
      " 7   Recall Type             26776 non-null  object \n",
      " 8   Potentially Affected    26733 non-null  float64\n",
      " 9   Recall Description      24375 non-null  object \n",
      " 10  Consequence Summary     21888 non-null  object \n",
      " 11  Corrective Action       24388 non-null  object \n",
      " 12  Park Outside Advisory   26776 non-null  object \n",
      " 13  Do Not Drive Advisory   26776 non-null  object \n",
      "dtypes: float64(1), object(13)\n",
      "memory usage: 2.9+ MB\n",
      "None\n",
      "       Potentially Affected\n",
      "count          2.673300e+04\n",
      "mean           4.626750e+04\n",
      "std            3.822862e+05\n",
      "min            0.000000e+00\n",
      "25%            1.020000e+02\n",
      "50%            7.020000e+02\n",
      "75%            6.475000e+03\n",
      "max            3.200000e+07\n",
      "(26776, 14)\n",
      "      Report Received Date   NHTSA ID  \\\n",
      "0  2023-03-10T00:00:00.000  23V161000   \n",
      "1  2023-03-10T00:00:00.000  23V162000   \n",
      "2  2023-03-10T00:00:00.000  23V160000   \n",
      "3  2023-03-10T00:00:00.000  23V164000   \n",
      "4  2023-03-10T00:00:00.000  23V165000   \n",
      "\n",
      "                                         Recall Link        Manufacturer  \\\n",
      "0  Go to Recall (https://www.nhtsa.gov/recalls?nh...          Kibbi, LLC   \n",
      "1  Go to Recall (https://www.nhtsa.gov/recalls?nh...  Ford Motor Company   \n",
      "2  Go to Recall (https://www.nhtsa.gov/recalls?nh...  Ford Motor Company   \n",
      "3  Go to Recall (https://www.nhtsa.gov/recalls?nh...  Ford Motor Company   \n",
      "4  Go to Recall (https://www.nhtsa.gov/recalls?nh...  Ford Motor Company   \n",
      "\n",
      "                                      Subject                  Component  \\\n",
      "0                    Entry Door Latch Failure     LATCHES/LOCKS/LINKAGES   \n",
      "1               Front Brake Hoses May Rupture  SERVICE BRAKES, HYDRAULIC   \n",
      "2    Inoperative Trailer Taillights/FMVSS 108          EXTERIOR LIGHTING   \n",
      "3  Rear Caliper Bolts Not Tightened Correctly  SERVICE BRAKES, HYDRAULIC   \n",
      "4       Rearview Camera Malfunction/FMVSS 111       BACK OVER PREVENTION   \n",
      "\n",
      "  Mfr Campaign Number Recall Type  Potentially Affected  \\\n",
      "0   NR (Not Reported)     Vehicle                  63.0   \n",
      "1               23S12     Vehicle             1280726.0   \n",
      "2               23C04     Vehicle                2716.0   \n",
      "3               23S11     Vehicle                 644.0   \n",
      "4               23C05     Vehicle                1651.0   \n",
      "\n",
      "                                  Recall Description  \\\n",
      "0  Kibbi, LLC (Kibbi) is recalling certain 2022-2...   \n",
      "1  Ford Motor Company (Ford) is recalling certain...   \n",
      "2  Ford Motor Company (Ford) is recalling certain...   \n",
      "3  Ford Motor Company (Ford) is recalling certain...   \n",
      "4  Ford Motor Company (Ford) is recalling certain...   \n",
      "\n",
      "                                 Consequence Summary  \\\n",
      "0  The inability to enter or exit the vehicle in ...   \n",
      "1  A brake fluid leak will increase brake pedal t...   \n",
      "2  Trailer taillights that do not illuminate as i...   \n",
      "3  A damaged wheel can result in a loss of tire p...   \n",
      "4  A rearview image that continues to be displaye...   \n",
      "\n",
      "                                   Corrective Action Park Outside Advisory   \\\n",
      "0  Dealers will inspect and replace the door latc...                     No   \n",
      "1  Dealers will replace the front brake hoses, fr...                     No   \n",
      "2  Dealers will add an electrical circuit to the ...                     No   \n",
      "3  Dealers will inspect and tighten the rear cali...                     No   \n",
      "4  The SYNC module software will be updated by a ...                     No   \n",
      "\n",
      "  Do Not Drive Advisory  \n",
      "0                    No  \n",
      "1                    No  \n",
      "2                    No  \n",
      "3                    No  \n",
      "4                    No  \n"
     ]
    }
   ],
   "source": [
    "#Describe recalls dataset\n",
    "print(recalls_raw.columns)\n",
    "print(recalls_raw.info())\n",
    "print(recalls_raw.describe())\n",
    "print(recalls_raw.shape)\n",
    "\n",
    "print(recalls_raw.head())"
   ]
  },
  {
   "cell_type": "markdown",
   "id": "9d76632a",
   "metadata": {},
   "source": [
    "Taking a quick look at all the unique values in each column using a for loop:"
   ]
  },
  {
   "cell_type": "code",
   "execution_count": 6,
   "id": "62d55f0f",
   "metadata": {},
   "outputs": [
    {
     "name": "stdout",
     "output_type": "stream",
     "text": [
      "\n",
      "Recalls Data - Unique Values:\n",
      "Report Received Date:\n",
      "['2023-03-10T00:00:00.000' '2023-03-09T00:00:00.000'\n",
      " '2023-03-08T00:00:00.000' ... '1966-09-29T00:00:00.000'\n",
      " '1966-09-19T00:00:00.000' '1966-01-19T00:00:00.000']\n",
      "9582 unique values\n",
      "NHTSA ID:\n",
      "['23V161000' '23V162000' '23V160000' ... '66V032001' '66V032003'\n",
      " '66V032004']\n",
      "26776 unique values\n",
      "Recall Link:\n",
      "['Go to Recall (https://www.nhtsa.gov/recalls?nhtsaId=23V161000)'\n",
      " 'Go to Recall (https://www.nhtsa.gov/recalls?nhtsaId=23V162000)'\n",
      " 'Go to Recall (https://www.nhtsa.gov/recalls?nhtsaId=23V160000)' ...\n",
      " 'Go to Recall (https://www.nhtsa.gov/recalls?nhtsaId=66V032001)'\n",
      " 'Go to Recall (https://www.nhtsa.gov/recalls?nhtsaId=66V032003)'\n",
      " 'Go to Recall (https://www.nhtsa.gov/recalls?nhtsaId=66V032004)']\n",
      "26776 unique values\n",
      "Manufacturer:\n",
      "['Kibbi, LLC' 'Ford Motor Company' 'Gilbarco, Inc.' ... 'SS AUTOS, INC.'\n",
      " 'ALGAR ENTERPRISES, INC.' 'ULTRA, INC.']\n",
      "2941 unique values\n",
      "Subject:\n",
      "['Entry Door Latch Failure' 'Front Brake Hoses May Rupture'\n",
      " 'Inoperative Trailer Taillights/FMVSS 108' ...\n",
      " 'HEATER:UNKNOWN TYPE:DEFROSTER:DEFOGGER:HOSE:DUCT:A'\n",
      " 'EXHAUST SYSTEM:MANIFOLD:ENGINE'\n",
      " 'FUEL:FUEL INJECTION:UNKNOWN TYPE:VALVE:START']\n",
      "15316 unique values\n",
      "Component:\n",
      "['LATCHES/LOCKS/LINKAGES' 'SERVICE BRAKES, HYDRAULIC' 'EXTERIOR LIGHTING'\n",
      " 'BACK OVER PREVENTION' 'VISIBILITY' 'ELECTRICAL SYSTEM' 'SEAT BELTS'\n",
      " 'AIR BAGS' 'EQUIPMENT' 'POWER TRAIN' 'STRUCTURE' 'STEERING' 'TIRES'\n",
      " 'SUSPENSION' 'CHILD SEAT' 'PARKING BRAKE' 'SEATS' 'TRAILER HITCHES'\n",
      " 'SERVICE BRAKES' 'ENGINE AND ENGINE COOLING' 'SERVICE BRAKES, AIR'\n",
      " 'EQUIPMENT ADAPTIVE/MOBILITY' 'FUEL SYSTEM, GASOLINE'\n",
      " 'ELECTRONIC STABILITY CONTROL' 'WHEELS' 'FUEL SYSTEM, DIESEL' 'ENGINE'\n",
      " 'FUEL SYSTEM, OTHER' 'HYBRID PROPULSION SYSTEM'\n",
      " 'FORWARD COLLISION AVOIDANCE' 'COMMUNICATION' 'VEHICLE SPEED CONTROL'\n",
      " 'OTHER' 'LANE DEPARTURE' 'UNKNOWN OR OTHER' 'VISIBILITY/WIPER'\n",
      " 'TRACTION CONTROL SYSTEM' 'SERVICE BRAKES, ELECTRIC' 'INTERIOR LIGHTING'\n",
      " 'TBD']\n",
      "40 unique values\n",
      "Mfr Campaign Number:\n",
      "['NR (Not Reported)' '23S12' '23C04' ... '93-C-07' '92-C-01' '191T']\n",
      "9967 unique values\n",
      "Recall Type:\n",
      "['Vehicle' 'Equipment' 'Child Seat' 'Tire']\n",
      "4 unique values\n",
      "Potentially Affected:\n",
      "[6.300000e+01 1.280726e+06 2.716000e+03 ... 1.388780e+05 7.064400e+04\n",
      " 6.818400e+04]\n",
      "9433 unique values\n",
      "Recall Description:\n",
      "['Kibbi, LLC (Kibbi) is recalling certain 2022-2023 Renegade RV Classic, Explorer, and XL Motorhomes.  The entry door latch may fail and not allow entry or exit.'\n",
      " 'Ford Motor Company (Ford) is recalling certain 2013-2018 Fusion and Lincoln MKZ vehicles.  The front brake hoses may rupture and leak brake fluid.'\n",
      " 'Ford Motor Company (Ford) is recalling certain 2023 Maverick vehicles.  A missing electrical circuit may cause the trailer taillights to not illuminate as intended when utilizing the vehicle trailer tow electrical connector.  As such, these vehicles fail to comply with the requirements of Federal Motor Vehicle Safety Standard number 108, \" Lamps, Reflective Devices, and Associated Equipment.\"'\n",
      " ...\n",
      " 'EXHAUST EMISSIONS (CARBON MONOXIDE) MAY ENTER THE INTERIOR OF THE VEHICLE WHEN THE EXHAUST PIPE IS SUBSTANTIALLY OUT THE DESIGN POSITION, DETERIORATED FROM USE, OR WHEN AN OPENING IN THE BODY DEVELOPS NEAR THE EXHAUST OUTLET AND, AT THE SAME TIME, A NEGATIVE AIR PRESSURE OCCURS IN THE VEHICLE INTERIOR.'\n",
      " 'THE FAST IDLE CAM ON QUADRA-JET CARBURETORS CAN CRACK AND ULTIMATELY BREAK APART. IF THIS OCCURS AND PARTS FALL INTO THE THROTTLE LINKAGE, IT COULD CAUSE THE THROTTLE TO STICK IN A PARTIALLY OPEN POSITION.'\n",
      " 'POSSIBILITY THAT THE FRONT BRAKE HOSE END FITTINGS MAY BECOME LOOSE AND CAUSE LEAKAGE OF BRAKE FLUID.']\n",
      "23634 unique values\n",
      "Consequence Summary:\n",
      "['The inability to enter or exit the vehicle in an emergency increases the risk of injury.'\n",
      " 'A brake fluid leak will increase brake pedal travel and extend the distance needed to stop the vehicle, increasing the risk of a crash.'\n",
      " 'Trailer taillights that do not illuminate as intended can increase the risk of a crash.'\n",
      " ...\n",
      " 'UNDER THESE CONDITIONS, VEHICLE OCCUPANTS MAY EXPERIENCECARBON MONOXIDE POISONING.'\n",
      " 'UNEXPECTED LOSS OF THROTTLE CONTROL MAY RESULT IN ANACCIDENT.'\n",
      " 'IF SUCH LEAKAGE OCCURS AND IF ENOUGH BRAKE FLUID SHOULD BE LOST, THE BRAKES WOULD NOT FUNCTION.']\n",
      "15852 unique values\n",
      "Corrective Action:\n",
      "['Dealers will inspect and replace the door latch, as necessary, free of charge.  Owner notification letters are expected to be mailed April 7, 2023.  Owners may contact Kibbi customer service at 1-574-966-0196.'\n",
      " \"Dealers will replace the front brake hoses, free of charge.  Interim letters notifying owners of the safety risk are expected to be mailed April 17, 2023.  Second letters will be mailed once parts are available.  Owners may contact Ford customer service at 1-866-436-7332.  Ford's number for this recall is 23S12.\"\n",
      " \"Dealers will add an electrical circuit to the engine bay wiring harness, free of charge.  Owner notification letters are expected to be mailed March 27, 2023.  Owners may contact Ford customer service at 1-866-436-7332.  Ford's number for this recall is 23C04.\"\n",
      " ...\n",
      " 'RESEAL NEARBY BODY JOINTS AND REPLACE THE DRAW PLUG IN THE BODY WHICH WAS USED TO REMOVE SURPLUS BONDERIZING SOLUTION DURING MANUFACTURE.'\n",
      " 'INSTALL A NEW IMPROVED FAST IDLE CAM.'\n",
      " '(REPLACE FRONT BRAKE HOSES AND SEALS.)']\n",
      "23695 unique values\n",
      "Park Outside Advisory :\n",
      "['No' 'Yes']\n",
      "2 unique values\n",
      "Do Not Drive Advisory:\n",
      "['No' 'Yes']\n",
      "2 unique values\n"
     ]
    }
   ],
   "source": [
    "#printing unique values\n",
    "\n",
    "print('\\nRecalls Data - Unique Values:')\n",
    "for x in recalls_raw.columns:\n",
    "    print(x+':')\n",
    "    print(recalls_raw[x].unique())\n",
    "    print(str(recalls_raw[x].nunique()) + str(' unique values'))"
   ]
  },
  {
   "cell_type": "markdown",
   "id": "cdf34cbd",
   "metadata": {},
   "source": [
    "# Step 3: Clean Data"
   ]
  },
  {
   "cell_type": "markdown",
   "id": "174f2ed5",
   "metadata": {},
   "source": [
    "Firstly we convert the 'Report Received Date' to a datetime object, to ensure it's properly read in later analysis:"
   ]
  },
  {
   "cell_type": "code",
   "execution_count": 7,
   "id": "56853356",
   "metadata": {},
   "outputs": [],
   "source": [
    "#Converting report_received_date to a datetime object\n",
    "recalls_raw['Report Received Date'] = recalls_raw['Report Received Date'].apply(pd.to_datetime)"
   ]
  },
  {
   "cell_type": "markdown",
   "id": "b5d0489a",
   "metadata": {},
   "source": [
    "The missing data in the dataset can be visualised using the msno library; values in the dataset are first sorted by the \"Report Received Date\" column in ascending order, then a matrix plot of the missing values in the dataset can be plotted using the msno.matrix function. This plot shows the distribution of missing values across all columns of the dataset."
   ]
  },
  {
   "cell_type": "code",
   "execution_count": 8,
   "id": "5ab68325",
   "metadata": {},
   "outputs": [
    {
     "data": {
      "image/png": "[encoded data removed]",
      "text/plain": [
       "<Figure size 1800x720 with 2 Axes>"
      ]
     },
     "metadata": {
      "needs_background": "light"
     },
     "output_type": "display_data"
    },
    {
     "name": "stdout",
     "output_type": "stream",
     "text": [
      "<class 'pandas.core.frame.DataFrame'>\n",
      "Int64Index: 26776 entries, 26775 to 0\n",
      "Data columns (total 14 columns):\n",
      " #   Column                  Non-Null Count  Dtype         \n",
      "---  ------                  --------------  -----         \n",
      " 0   Report Received Date    26776 non-null  datetime64[ns]\n",
      " 1   NHTSA ID                26776 non-null  object        \n",
      " 2   Recall Link             26776 non-null  object        \n",
      " 3   Manufacturer            26776 non-null  object        \n",
      " 4   Subject                 26776 non-null  object        \n",
      " 5   Component               26776 non-null  object        \n",
      " 6   Mfr Campaign Number     26747 non-null  object        \n",
      " 7   Recall Type             26776 non-null  object        \n",
      " 8   Potentially Affected    26733 non-null  float64       \n",
      " 9   Recall Description      24375 non-null  object        \n",
      " 10  Consequence Summary     21888 non-null  object        \n",
      " 11  Corrective Action       24388 non-null  object        \n",
      " 12  Park Outside Advisory   26776 non-null  object        \n",
      " 13  Do Not Drive Advisory   26776 non-null  object        \n",
      "dtypes: datetime64[ns](1), float64(1), object(12)\n",
      "memory usage: 3.1+ MB\n",
      "None\n"
     ]
    }
   ],
   "source": [
    "#Visualising missing data\n",
    "\n",
    "#Sorting values by report received date\n",
    "recalls_raw = recalls_raw.sort_values(by='Report Received Date',ascending=True)\n",
    "\n",
    "#plotting matrix of missing data\n",
    "msno.matrix(recalls_raw)\n",
    "plt.show()\n",
    "\n",
    "#info of sorted data\n",
    "print(recalls_raw.info())"
   ]
  },
  {
   "cell_type": "markdown",
   "id": "b4e3a795",
   "metadata": {},
   "source": [
    "This visualisation is further refined once the rows with no \"Potentially Affected\" units are scrubbed from the dataset:"
   ]
  },
  {
   "cell_type": "code",
   "execution_count": 9,
   "id": "c91e27e1",
   "metadata": {},
   "outputs": [
    {
     "data": {
      "image/png": "[encoded data removed]",
      "text/plain": [
       "<Figure size 1800x720 with 2 Axes>"
      ]
     },
     "metadata": {
      "needs_background": "light"
     },
     "output_type": "display_data"
    },
    {
     "name": "stdout",
     "output_type": "stream",
     "text": [
      "<class 'pandas.core.frame.DataFrame'>\n",
      "Int64Index: 26733 entries, 26775 to 0\n",
      "Data columns (total 14 columns):\n",
      " #   Column                  Non-Null Count  Dtype         \n",
      "---  ------                  --------------  -----         \n",
      " 0   Report Received Date    26733 non-null  datetime64[ns]\n",
      " 1   NHTSA ID                26733 non-null  object        \n",
      " 2   Recall Link             26733 non-null  object        \n",
      " 3   Manufacturer            26733 non-null  object        \n",
      " 4   Subject                 26733 non-null  object        \n",
      " 5   Component               26733 non-null  object        \n",
      " 6   Mfr Campaign Number     26704 non-null  object        \n",
      " 7   Recall Type             26733 non-null  object        \n",
      " 8   Potentially Affected    26733 non-null  float64       \n",
      " 9   Recall Description      24332 non-null  object        \n",
      " 10  Consequence Summary     21845 non-null  object        \n",
      " 11  Corrective Action       24345 non-null  object        \n",
      " 12  Park Outside Advisory   26733 non-null  object        \n",
      " 13  Do Not Drive Advisory   26733 non-null  object        \n",
      "dtypes: datetime64[ns](1), float64(1), object(12)\n",
      "memory usage: 3.1+ MB\n",
      "None\n"
     ]
    }
   ],
   "source": [
    "#dropping rows with missing 'Potentially Affected' data - irrelevant for analysis\n",
    "recalls_raw = recalls_raw.dropna(subset = ['Potentially Affected'])\n",
    "\n",
    "#plotting matrix of missing data\n",
    "msno.matrix(recalls_raw)\n",
    "plt.show()\n",
    "\n",
    "#info of sorted data\n",
    "print(recalls_raw.info())"
   ]
  },
  {
   "cell_type": "markdown",
   "id": "16f2a04d",
   "metadata": {},
   "source": [
    "We can see that only the columns 'Mfr Campaign Number', 'Recall Description', 'Consequence Summary', and 'Corrective Action' now have missing data; we can also note that only the earliest entries in the dataset have missing values. This can be cleaned up using the fillna function, subbing in \"Missing_Info\" for any blank entries.\n",
    "\n",
    "Once this is done, we can see from the msno matrix that we now have a dataset with no blank entries:"
   ]
  },
  {
   "cell_type": "code",
   "execution_count": 10,
   "id": "1c654729",
   "metadata": {},
   "outputs": [
    {
     "data": {
      "image/png": "[encoded data removed]",
      "text/plain": [
       "<Figure size 1800x720 with 2 Axes>"
      ]
     },
     "metadata": {
      "needs_background": "light"
     },
     "output_type": "display_data"
    },
    {
     "name": "stdout",
     "output_type": "stream",
     "text": [
      "<class 'pandas.core.frame.DataFrame'>\n",
      "Int64Index: 26733 entries, 26775 to 0\n",
      "Data columns (total 14 columns):\n",
      " #   Column                  Non-Null Count  Dtype         \n",
      "---  ------                  --------------  -----         \n",
      " 0   Report Received Date    26733 non-null  datetime64[ns]\n",
      " 1   NHTSA ID                26733 non-null  object        \n",
      " 2   Recall Link             26733 non-null  object        \n",
      " 3   Manufacturer            26733 non-null  object        \n",
      " 4   Subject                 26733 non-null  object        \n",
      " 5   Component               26733 non-null  object        \n",
      " 6   Mfr Campaign Number     26733 non-null  object        \n",
      " 7   Recall Type             26733 non-null  object        \n",
      " 8   Potentially Affected    26733 non-null  float64       \n",
      " 9   Recall Description      26733 non-null  object        \n",
      " 10  Consequence Summary     26733 non-null  object        \n",
      " 11  Corrective Action       26733 non-null  object        \n",
      " 12  Park Outside Advisory   26733 non-null  object        \n",
      " 13  Do Not Drive Advisory   26733 non-null  object        \n",
      "dtypes: datetime64[ns](1), float64(1), object(12)\n",
      "memory usage: 3.1+ MB\n",
      "None\n"
     ]
    }
   ],
   "source": [
    "#filling in missing text data in text columns \n",
    "#text_cols = recalls_raw[['Recall Description','Consequence Summary','Corrective Action']]\n",
    "recalls_raw = recalls_raw.fillna(value = 'missing_info')\n",
    "\n",
    "#plotting matrix of missing data\n",
    "msno.matrix(recalls_raw)\n",
    "plt.show()\n",
    "\n",
    "#info of sorted data\n",
    "print(recalls_raw.info())"
   ]
  },
  {
   "cell_type": "markdown",
   "id": "6c8338fa",
   "metadata": {},
   "source": [
    "## NLP Column Analysis: Corrective Action  "
   ]
  },
  {
   "cell_type": "markdown",
   "id": "d5381fbc",
   "metadata": {},
   "source": [
    "Next we prepare for some natural language processing (NLP) work on the \"Corrective Actions\" column, by first defining the stopwords to ignore during the language processing, and then the tokenising and lemmatising functions to pick out keywords in the text.   \n",
    "\n",
    "The stopwords file is contained in the text file 'excluded_words.txt', also contained in this folder; the WhitespaceTokenizer function is a tokeniser that uses whitespace as a delimiter to break up text into individual words or tokens, while WordNetLemmatizer is a tool for reducing inflected words to their base or root form (the \"lemma\"). \n",
    "\n",
    "Unfortunately a trial of different lemmatising functions has shown that it doesn't pick up all inflections in the text, so further processing will be done in later stages, to swap out inflections and synonyms using a dictionary."
   ]
  },
  {
   "cell_type": "code",
   "execution_count": 11,
   "id": "11a99cda",
   "metadata": {},
   "outputs": [],
   "source": [
    "#NLP prep - defining NLTK functions\n",
    "\n",
    "#reading in stopwords txt file to list\n",
    "stopwords_file = 'excluded_words.txt'\n",
    "stopwords_filepath = os.path.join(dir_name, stopwords_file)\n",
    "\n",
    "with open(stopwords_filepath) as file:\n",
    "    stopwords = set(file.read().split())\n",
    "\n",
    "#defining tokenising and lemmatising functions from NLTK\n",
    "w_tokenizer = nltk.tokenize.WhitespaceTokenizer()\n",
    "lemmatizer = nltk.stem.WordNetLemmatizer()\n",
    "\n",
    "def lemmatize_text(text):\n",
    "    return [lemmatizer.lemmatize(w) for w in w_tokenizer.tokenize(text) if w.lower() not in stopwords]\n"
   ]
  },
  {
   "cell_type": "markdown",
   "id": "c7de6c04",
   "metadata": {},
   "source": [
    "Along with this we define supplementary functions for text processing, to remove numbers, replace inflections or synonyms based on an inflection dictionary, filter out keywords, remove duplicate words in a column, and expand information in postprocessing:"
   ]
  },
  {
   "cell_type": "code",
   "execution_count": 12,
   "id": "e5ba22d3",
   "metadata": {},
   "outputs": [],
   "source": [
    "#removing numbers in the analysis column\n",
    "def remove_num(text):\n",
    "    return re.sub(r'\\d+', '', text)\n",
    "\n",
    "#function to replace inflections\n",
    "def replace_inflections(string):\n",
    "    for inflection, replacement in inflect_dict.items():\n",
    "        string = string.replace(inflection, replacement)\n",
    "    return string\n",
    "\n",
    "#function to remove words not found in the keywords list\n",
    "def filter_keywords(row, wordlist):\n",
    "    # split the row into individual words\n",
    "    words = row.split()\n",
    "    # create a new list with only the words in the word_list\n",
    "    filtered_words = [word for word in words if word in wordlist]\n",
    "    #if no keywords found, add 'No Classification'\n",
    "    if len(filtered_words) == 0:\n",
    "        filtered_words.append('no_classification')\n",
    "    # join the filtered words back together into a string\n",
    "    filtered_row = ' '.join(filtered_words)\n",
    "    return filtered_row\n",
    "\n",
    "#function to remove duplicate words in the classification column\n",
    "def remove_duplicate_words(text):\n",
    "    words = text.split()\n",
    "    unique_words = list(set(words))\n",
    "    return ' '.join(unique_words)\n",
    "\n",
    "#function to expand keyword info\n",
    "def info_expand(val):\n",
    "    for keyword, info in key_info.items():\n",
    "        val = val.replace(keyword, info)\n",
    "    return val\n"
   ]
  },
  {
   "cell_type": "markdown",
   "id": "1fa195a0",
   "metadata": {},
   "source": [
    "Following this we clean the data, lemmatise the text, and convert the text to lowercase. The resulting lemmatised text is stored in a new column called \"CA Lemm\"."
   ]
  },
  {
   "cell_type": "code",
   "execution_count": 13,
   "id": "d3343f03",
   "metadata": {},
   "outputs": [],
   "source": [
    "#creating new column in df for NLP analysis\n",
    "\n",
    "#punctuation list\n",
    "punct = '[' + string.punctuation + ']'\n",
    "\n",
    "#removing punctuation and lemmatising column\n",
    "recalls_raw['CA Lemm'] = recalls_raw['Corrective Action'].str.replace(punct,'',regex=True).apply(lemmatize_text) \n",
    "\n",
    "#converting column type to lowercase string for further analysis\n",
    "recalls_raw['CA Lemm'] = recalls_raw['CA Lemm'].apply(str).apply(str.lower).str.replace(punct,'',regex=True)"
   ]
  },
  {
   "cell_type": "markdown",
   "id": "f0edca73",
   "metadata": {},
   "source": [
    "The counter function gives us an idea of the most common tokens found in the text, printing the count of instances for each word:"
   ]
  },
  {
   "cell_type": "code",
   "execution_count": 14,
   "id": "5119a5ca",
   "metadata": {},
   "outputs": [
    {
     "data": {
      "text/plain": [
       "[('recall', 19802),\n",
       " ('service', 12029),\n",
       " ('replace', 10569),\n",
       " ('notify', 9068),\n",
       " ('inspect', 4834),\n",
       " ('notification', 4754),\n",
       " ('install', 3582),\n",
       " ('vehicles', 3105),\n",
       " ('remedy', 2970),\n",
       " ('safety', 2784),\n",
       " ('repair', 2749),\n",
       " ('vehicle', 2587),\n",
       " ('mailed', 2407),\n",
       " ('missinginfo', 2388),\n",
       " ('letter', 2358),\n",
       " ('brake', 2030),\n",
       " ('receive', 1944),\n",
       " ('replaced', 1830),\n",
       " ('affected', 1805),\n",
       " ('fuel', 1735)]"
      ]
     },
     "execution_count": 14,
     "metadata": {},
     "output_type": "execute_result"
    }
   ],
   "source": [
    "Counter(\" \".join(recalls_raw[\"CA Lemm\"]).split()).most_common(20)"
   ]
  },
  {
   "cell_type": "markdown",
   "id": "3412a73c",
   "metadata": {},
   "source": [
    "We can see that the lemmatising function hasn't picked up all inflections (for example, the words 'notification' and replaced', which should have been converted to 'notify' and 'replace' respectively). Subsequently we can define an inflection dictionary (also included in the folder) to catch these stray inflections and convert them to the format we need for analysis:"
   ]
  },
  {
   "cell_type": "code",
   "execution_count": 15,
   "id": "34d014e6",
   "metadata": {},
   "outputs": [],
   "source": [
    "#postprocessing lemmatised words to reduce variations with word inflections\n",
    "with open('inflect_dict.txt','r') as f:\n",
    "    inflect_dict = json.load(f)\n",
    "\n",
    "#applying to column\n",
    "recalls_raw[\"CA Lemm\"] = recalls_raw[\"CA Lemm\"].apply(replace_inflections)"
   ]
  },
  {
   "cell_type": "markdown",
   "id": "bfac303b",
   "metadata": {},
   "source": [
    "Applying the remove_num function lets us strip out all numbers in the text: "
   ]
  },
  {
   "cell_type": "code",
   "execution_count": 16,
   "id": "b42916e6",
   "metadata": {},
   "outputs": [],
   "source": [
    "#applying both functions to the Corrective Action Analysis column\n",
    "recalls_raw['CA Lemm'] = recalls_raw['CA Lemm'].apply(remove_num)"
   ]
  },
  {
   "cell_type": "markdown",
   "id": "67d711c6",
   "metadata": {},
   "source": [
    "The majority of the lemmatised rows in 'CA Lemm' now contains at least one keyword, or 'missing info'. "
   ]
  },
  {
   "cell_type": "markdown",
   "id": "cd218b7f",
   "metadata": {},
   "source": [
    "Now we filter the 'CA Lemm' column to only keep words contained in the keywords, by first loading in the 'keywords.txt' file; this file will be used to flag words in the 'CA Lemm' column that indicate a key action taken during the recall, i.e. inspect, replace, etc. We apply this to the column using the filter_keywords function - in the process creating a new column, 'CA Keywords'. This column is cleaned up by removing duplicates, before the values in each cell are sorted alphabetically. These steps will be useful when summarising the corrective actions in Power BI. \n",
    "\n",
    "We also print the number of unique values in the CA Keywords column using nunique():"
   ]
  },
  {
   "cell_type": "code",
   "execution_count": 17,
   "id": "751de5b1",
   "metadata": {
    "scrolled": false
   },
   "outputs": [
    {
     "name": "stdout",
     "output_type": "stream",
     "text": [
      "280\n"
     ]
    }
   ],
   "source": [
    "# Open keywords file for reading\n",
    "with open(\"keywords.txt\", \"r\") as f:\n",
    "    # Load the list from the file\n",
    "    keywords = json.load(f)\n",
    "\n",
    "#applying keywords filter to classification column\n",
    "recalls_raw['CA Keywords'] = recalls_raw['CA Lemm'].apply(lambda w: filter_keywords(w, keywords))\n",
    "\n",
    "#removing duplicate words in the entries\n",
    "recalls_raw['CA Keywords'] = recalls_raw['CA Keywords'].apply(remove_duplicate_words)\n",
    "\n",
    "# sort the values alphabetically for each row\n",
    "recalls_raw['CA Keywords'] = recalls_raw['CA Keywords'].apply(lambda w: ' '.join(sorted(w.split())))\n",
    "\n",
    "#print number of unique classifiers\n",
    "print(recalls_raw['CA Keywords'].nunique())"
   ]
  },
  {
   "cell_type": "markdown",
   "id": "73072aca",
   "metadata": {},
   "source": [
    "A loop is applied to count the number of keywords found in the 'CA Keywords' column: "
   ]
  },
  {
   "cell_type": "code",
   "execution_count": 18,
   "id": "5fee66d3",
   "metadata": {},
   "outputs": [
    {
     "name": "stdout",
     "output_type": "stream",
     "text": [
      "25572\n",
      "['service', 'notify', 'replace', 'refund', 'inspect', 'install', 'repair', 'missinginfo', 'remove', 'relocate', 'reprogram', 'modify', 'retrofit', 'adjust']\n"
     ]
    }
   ],
   "source": [
    "#counting number of rows in the corrective action column that contain at least one keyword\n",
    "\n",
    "match_count = 0\n",
    "\n",
    "for row in recalls_raw[\"CA Keywords\"]:\n",
    "    for word in keywords:\n",
    "        if word in row:\n",
    "            match_count +=1\n",
    "            break\n",
    "\n",
    "print(match_count)\n",
    "print(keywords)"
   ]
  },
  {
   "cell_type": "markdown",
   "id": "e916ac0c",
   "metadata": {},
   "source": [
    "We then count the most common tokens in the 'CA Keywords' column:"
   ]
  },
  {
   "cell_type": "code",
   "execution_count": 19,
   "id": "a0a974bd",
   "metadata": {
    "scrolled": true
   },
   "outputs": [
    {
     "name": "stdout",
     "output_type": "stream",
     "text": [
      "   Action Taken  Frequency                Component\n",
      "0       replace        963                 STEERING\n",
      "1        notify        725                 STEERING\n",
      "2       service        604                 STEERING\n",
      "3       inspect        425                 STEERING\n",
      "4   missinginfo        313                 STEERING\n",
      "..          ...        ...                      ...\n",
      "3        repair          1            COMMUNICATION\n",
      "4       inspect          1            COMMUNICATION\n",
      "0        notify          2  TRACTION CONTROL SYSTEM\n",
      "1       service          2  TRACTION CONTROL SYSTEM\n",
      "2     reprogram          1  TRACTION CONTROL SYSTEM\n",
      "\n",
      "[438 rows x 3 columns]\n"
     ]
    }
   ],
   "source": [
    "keywords_instances = pd.DataFrame()\n",
    "\n",
    "for comp in recalls_raw['Component'].unique():\n",
    "    \n",
    "    temp_df = recalls_raw[recalls_raw['Component']==comp]\n",
    "    \n",
    "    #Checking most common keywords found\n",
    "    kw_inst = Counter(\" \".join(temp_df[\"CA Keywords\"]).split()).most_common(15)\n",
    "\n",
    "    #converting to a dataframe for later analysis\n",
    "    keywords_temp_df = pd.DataFrame(kw_inst,columns = ['Action Taken','Frequency'])\n",
    "    \n",
    "    keywords_temp_df['Component'] = str(comp)\n",
    "    \n",
    "    keywords_instances = pd.concat([keywords_instances,keywords_temp_df])\n",
    "\n",
    "#printing dataframe\n",
    "print(keywords_instances)"
   ]
  },
  {
   "cell_type": "markdown",
   "id": "2d961ceb",
   "metadata": {},
   "source": [
    "As a final sanity check, we subset the values in 'CA Lemm' with no keywords using another function defined earlier, subset_no_keywords. Printing the most common words gives a look at any potential keywords missing from the keywords file:"
   ]
  },
  {
   "cell_type": "code",
   "execution_count": 27,
   "id": "259dd9f8",
   "metadata": {},
   "outputs": [],
   "source": [
    "def subset_no_keywords(wordlist, data):\n",
    "    return [row for row in data if all(word not in row for word in wordlist)]\n",
    "\n",
    "recalls_no_keyword = subset_no_keywords(keywords,recalls_raw['CA Lemm']) "
   ]
  },
  {
   "cell_type": "code",
   "execution_count": 21,
   "id": "b9c2ec9c",
   "metadata": {},
   "outputs": [
    {
     "data": {
      "text/plain": [
       "[('ricon', 278),\n",
       " ('correct', 218),\n",
       " ('please', 159),\n",
       " ('e', 152),\n",
       " ('recall', 144),\n",
       " ('wheelchair', 140),\n",
       " ('lifts', 124),\n",
       " ('air', 74),\n",
       " ('pressure', 67),\n",
       " ('vehicles', 55),\n",
       " ('valve', 53),\n",
       " ('brake', 51),\n",
       " ('system', 42),\n",
       " ('corrected', 39),\n",
       " ('relief', 39),\n",
       " ('remedy', 38),\n",
       " ('dryer', 38),\n",
       " ('prevent', 37),\n",
       " ('bus', 36),\n",
       " ('safety', 35)]"
      ]
     },
     "execution_count": 21,
     "metadata": {},
     "output_type": "execute_result"
    }
   ],
   "source": [
    "Counter(\" \".join(recalls_no_keyword).split()).most_common(20)"
   ]
  },
  {
   "cell_type": "markdown",
   "id": "017ec4a1",
   "metadata": {},
   "source": [
    "## Aggregating and Postprocessing CA Keywords "
   ]
  },
  {
   "cell_type": "markdown",
   "id": "1b3369f0",
   "metadata": {},
   "source": [
    "Following the bulk of the NLP work, we tabulate the values in the 'CA Keywords' column to understand the most common sequence of actions across all recall instances:"
   ]
  },
  {
   "cell_type": "code",
   "execution_count": 22,
   "id": "f730aea9",
   "metadata": {},
   "outputs": [
    {
     "name": "stdout",
     "output_type": "stream",
     "text": [
      "notify replace service                    3634\n",
      "replace                                   3268\n",
      "missinginfo                               2388\n",
      "notify replace                            1638\n",
      "install                                   1547\n",
      "notify service                            1183\n",
      "no_classification                         1161\n",
      "inspect notify replace service            1055\n",
      "install notify service                    1050\n",
      "inspect replace                            861\n",
      "notify                                     621\n",
      "inspect notify service                     520\n",
      "notify repair                              413\n",
      "install replace                            301\n",
      "inspect notify replace                     296\n",
      "repair replace service                     280\n",
      "replace service                            272\n",
      "repair                                     242\n",
      "modify                                     230\n",
      "install notify                             229\n",
      "modify notify service                      227\n",
      "notify repair replace service              223\n",
      "install notify replace service             214\n",
      "inspect                                    208\n",
      "inspect install                            171\n",
      "inspect notify repair service              167\n",
      "notify repair service                      166\n",
      "notify reprogram service                   144\n",
      "inspect install notify service             140\n",
      "notify repair replace                      134\n",
      "service                                    131\n",
      "inspect modify notify service              130\n",
      "remove replace                             116\n",
      "repair replace                             109\n",
      "inspect install replace                    103\n",
      "adjust                                      91\n",
      "inspect notify repair replace service       91\n",
      "remove                                      90\n",
      "inspect replace service                     84\n",
      "inspect repair                              82\n",
      "modify replace                              79\n",
      "install service                             76\n",
      "inspect modify                              74\n",
      "modify notify replace service               73\n",
      "inspect notify                              72\n",
      "notify remove service                       71\n",
      "reprogram                                   69\n",
      "notify remove replace service               66\n",
      "install notify replace                      65\n",
      "install remove                              64\n",
      "adjust notify service                       64\n",
      "inspect install notify replace service      56\n",
      "install modify                              54\n",
      "inspect notify repair                       50\n",
      "inspect modify notify replace service       50\n",
      "notify refund replace service               48\n",
      "adjust replace                              46\n",
      "install repair                              45\n",
      "modify notify                               45\n",
      "install modify notify service               45\n",
      "Name: CA Keywords, dtype: int64\n"
     ]
    }
   ],
   "source": [
    "#tabulating CA data\n",
    "group_CA_Class = recalls_raw['CA Keywords'].value_counts()\n",
    "\n",
    "#printing 20 most common\n",
    "print(group_CA_Class.head(60))"
   ]
  },
  {
   "cell_type": "markdown",
   "id": "6c75f1cd",
   "metadata": {},
   "source": [
    "This gives us the information we're looking for, but it's somewhat clunky and difficult to read - we can apply some postprocessing to these entries to let us read this better, by adding commas and expanding on the information."
   ]
  },
  {
   "cell_type": "code",
   "execution_count": 23,
   "id": "75fac428",
   "metadata": {},
   "outputs": [],
   "source": [
    "#adding in commas between keywords\n",
    "recalls_raw['CA Keywords'] = recalls_raw['CA Keywords'].str.replace(' ',', ')\n",
    "\n",
    "#reading in postprocessing dictionary, based on keywords\n",
    "with open('key_info.txt','r') as f:\n",
    "    key_info = json.load(f)\n",
    "\n",
    "#applying to column\n",
    "recalls_raw[\"CA Keywords\"] = recalls_raw[\"CA Keywords\"].apply(info_expand)\n",
    "\n",
    "#also applying to keywords_instances dataframe\n",
    "keywords_instances['Action Taken'] = keywords_instances['Action Taken'].apply(info_expand)"
   ]
  },
  {
   "cell_type": "markdown",
   "id": "9b906b69",
   "metadata": {},
   "source": [
    "We rerun the tabulation to see the updated data:"
   ]
  },
  {
   "cell_type": "code",
   "execution_count": 24,
   "id": "ebd7576d",
   "metadata": {},
   "outputs": [
    {
     "name": "stdout",
     "output_type": "stream",
     "text": [
      "notify owner, replace unit/part, service unit                                3634\n",
      "replace unit/part                                                            3268\n",
      "missing info                                                                 2388\n",
      "notify owner, replace unit/part                                              1638\n",
      "install part                                                                 1547\n",
      "notify owner, service unit                                                   1183\n",
      "no classification                                                            1161\n",
      "inspect unit, notify owner, replace unit/part, service unit                  1055\n",
      "install part, notify owner, service unit                                     1050\n",
      "inspect unit, replace unit/part                                               861\n",
      "notify owner                                                                  621\n",
      "inspect unit, notify owner, service unit                                      520\n",
      "notify owner, repair fault                                                    413\n",
      "install part, replace unit/part                                               301\n",
      "inspect unit, notify owner, replace unit/part                                 296\n",
      "repair fault, replace unit/part, service unit                                 280\n",
      "replace unit/part, service unit                                               272\n",
      "repair fault                                                                  242\n",
      "modify part                                                                   230\n",
      "install part, notify owner                                                    229\n",
      "modify part, notify owner, service unit                                       227\n",
      "notify owner, repair fault, replace unit/part, service unit                   223\n",
      "install part, notify owner, replace unit/part, service unit                   214\n",
      "inspect unit                                                                  208\n",
      "inspect unit, install part                                                    171\n",
      "inspect unit, notify owner, repair fault, service unit                        167\n",
      "notify owner, repair fault, service unit                                      166\n",
      "notify owner, reprogram software, service unit                                144\n",
      "inspect unit, install part, notify owner, service unit                        140\n",
      "notify owner, repair fault, replace unit/part                                 134\n",
      "service unit                                                                  131\n",
      "inspect unit, modify part, notify owner, service unit                         130\n",
      "remove part, replace unit/part                                                116\n",
      "repair fault, replace unit/part                                               109\n",
      "inspect unit, install part, replace unit/part                                 103\n",
      "adjust part                                                                    91\n",
      "inspect unit, notify owner, repair fault, replace unit/part, service unit      91\n",
      "remove part                                                                    90\n",
      "inspect unit, replace unit/part, service unit                                  84\n",
      "inspect unit, repair fault                                                     82\n",
      "modify part, replace unit/part                                                 79\n",
      "install part, service unit                                                     76\n",
      "inspect unit, modify part                                                      74\n",
      "modify part, notify owner, replace unit/part, service unit                     73\n",
      "inspect unit, notify owner                                                     72\n",
      "notify owner, remove part, service unit                                        71\n",
      "reprogram software                                                             69\n",
      "notify owner, remove part, replace unit/part, service unit                     66\n",
      "install part, notify owner, replace unit/part                                  65\n",
      "install part, remove part                                                      64\n",
      "adjust part, notify owner, service unit                                        64\n",
      "inspect unit, install part, notify owner, replace unit/part, service unit      56\n",
      "install part, modify part                                                      54\n",
      "inspect unit, notify owner, repair fault                                       50\n",
      "inspect unit, modify part, notify owner, replace unit/part, service unit       50\n",
      "notify owner, refund owner, replace unit/part, service unit                    48\n",
      "adjust part, replace unit/part                                                 46\n",
      "install part, repair fault                                                     45\n",
      "modify part, notify owner                                                      45\n",
      "install part, modify part, notify owner, service unit                          45\n",
      "Name: CA Keywords, dtype: int64\n"
     ]
    }
   ],
   "source": [
    "#tabulating CA data\n",
    "group_CA_Class = recalls_raw['CA Keywords'].value_counts()\n",
    "\n",
    "#printing 20 most common\n",
    "print(group_CA_Class.head(60))"
   ]
  },
  {
   "cell_type": "markdown",
   "id": "00a2337b",
   "metadata": {},
   "source": [
    "## Export Data for Power BI Analysis"
   ]
  },
  {
   "cell_type": "markdown",
   "id": "cb19720a",
   "metadata": {},
   "source": [
    "Now that processing is complete on the recalls dataset, we filter the columns to only include the columns we need for visualisation and analysis. This filtered dataset will be stored in the recalls_processed dataframe, and then printed to a csv file for Power BI visualisation: "
   ]
  },
  {
   "cell_type": "code",
   "execution_count": 25,
   "id": "6131b8f9",
   "metadata": {},
   "outputs": [],
   "source": [
    "#creating filtered dataset\n",
    "recalls_processed = recalls_raw[['Report Received Date', 'NHTSA ID','Manufacturer',\n",
    "       'Subject', 'Component', 'Mfr Campaign Number', 'Recall Type',\n",
    "       'Potentially Affected', 'Recall Description', 'Consequence Summary',\n",
    "       'Corrective Action', 'Park Outside Advisory ', 'Do Not Drive Advisory',\n",
    "       'CA Keywords']]\n",
    "\n",
    "#exporting to csv for PBI report\n",
    "recalls_processed.to_csv('pbi_recalls_data.csv',index=False)"
   ]
  },
  {
   "cell_type": "markdown",
   "id": "cd3b7115",
   "metadata": {},
   "source": [
    "We also print the keywords_instances dataframe to a csv, as this will be useful data for a dashboard:"
   ]
  },
  {
   "cell_type": "code",
   "execution_count": 26,
   "id": "d7f7a751",
   "metadata": {},
   "outputs": [],
   "source": [
    "#exporting to csv for PBI report\n",
    "keywords_instances.to_csv('pbi_keywords_data.csv',index=False)"
   ]
  },
  {
   "cell_type": "markdown",
   "id": "f8e507ff",
   "metadata": {},
   "source": [
    "The data is now sufficiently cleaned and ready for the next step - a Power BI dashboard for quick business analysis. This dashboard can also be found in the github repository for this project."
   ]
  }
 ],
 "metadata": {
  "kernelspec": {
   "display_name": "Python 3 (ipykernel)",
   "language": "python",
   "name": "python3"
  },
  "language_info": {
   "codemirror_mode": {
    "name": "ipython",
    "version": 3
   },
   "file_extension": ".py",
   "mimetype": "text/x-python",
   "name": "python",
   "nbconvert_exporter": "python",
   "pygments_lexer": "ipython3",
   "version": "3.9.12"
  }
 },
 "nbformat": 4,
 "nbformat_minor": 5
}
